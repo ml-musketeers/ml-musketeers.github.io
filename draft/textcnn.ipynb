{
 "cells": [
  {
   "cell_type": "markdown",
   "metadata": {},
   "source": [
    "## Load dataset"
   ]
  },
  {
   "cell_type": "code",
   "execution_count": 21,
   "metadata": {},
   "outputs": [],
   "source": [
    "from sklearn.datasets import fetch_20newsgroups\n",
    "from keras.utils import np_utils\n",
    "\n",
    "cats = ['alt.atheism', 'sci.space']\n",
    "newsgroups_train = fetch_20newsgroups(subset='train', categories=cats)\n",
    "corpus = newsgroups_train.data\n",
    "y_train = np_utils.to_categorical(newsgroups_train.target)"
   ]
  },
  {
   "cell_type": "markdown",
   "metadata": {},
   "source": [
    "## Preprocessing"
   ]
  },
  {
   "cell_type": "code",
   "execution_count": 24,
   "metadata": {},
   "outputs": [],
   "source": [
    "from zeugma import TextsToSequences, Padder\n",
    "from sklearn.pipeline import make_pipeline\n",
    "\n",
    "max_length = 200\n",
    "num_words = 10000\n",
    "\n",
    "sequencer = TextsToSequences(num_words=num_words)\n",
    "padder = Padder(max_length=max_length)\n",
    "\n",
    "# Build the Scikit-learn pipeline\n",
    "pipeline = make_pipeline(sequencer, padder)\n",
    "x_train = pipeline.fit_transform(corpus)"
   ]
  },
  {
   "cell_type": "code",
   "execution_count": 26,
   "metadata": {},
   "outputs": [
    {
     "name": "stderr",
     "output_type": "stream",
     "text": [
      "/Users/nicolas/Projects/zeugma/zeugma/embeddings.py:215: RuntimeWarning: invalid value encountered in true_divide\n",
      "  text_vector = reduce(np.add, embeddings, np.zeros(size)) / len(tokens)\n"
     ]
    },
    {
     "ename": "NameError",
     "evalue": "name 'os' is not defined",
     "output_type": "error",
     "traceback": [
      "\u001b[0;31m---------------------------------------------------------------------------\u001b[0m",
      "\u001b[0;31mNameError\u001b[0m                                 Traceback (most recent call last)",
      "\u001b[0;32m<ipython-input-26-6188dc468e6e>\u001b[0m in \u001b[0;36m<module>\u001b[0;34m()\u001b[0m\n\u001b[1;32m     14\u001b[0m \u001b[0membedding_matrix\u001b[0m \u001b[0;34m=\u001b[0m \u001b[0mcreate_embedding_matrix\u001b[0m\u001b[0;34m(\u001b[0m\u001b[0mword_index\u001b[0m\u001b[0;34m,\u001b[0m \u001b[0membedding_transformer\u001b[0m\u001b[0;34m)\u001b[0m\u001b[0;34m\u001b[0m\u001b[0m\n\u001b[1;32m     15\u001b[0m \u001b[0;34m\u001b[0m\u001b[0m\n\u001b[0;32m---> 16\u001b[0;31m \u001b[0mLOG_DIR\u001b[0m \u001b[0;34m=\u001b[0m \u001b[0mos\u001b[0m\u001b[0;34m.\u001b[0m\u001b[0mpath\u001b[0m\u001b[0;34m.\u001b[0m\u001b[0mjoin\u001b[0m\u001b[0;34m(\u001b[0m\u001b[0mos\u001b[0m\u001b[0;34m.\u001b[0m\u001b[0menviron\u001b[0m\u001b[0;34m[\u001b[0m\u001b[0;34m'PWD'\u001b[0m\u001b[0;34m]\u001b[0m\u001b[0;34m,\u001b[0m \u001b[0;34m'logs'\u001b[0m\u001b[0;34m)\u001b[0m\u001b[0;34m\u001b[0m\u001b[0m\n\u001b[0m\u001b[1;32m     17\u001b[0m \u001b[0;34m\u001b[0m\u001b[0m\n\u001b[1;32m     18\u001b[0m \u001b[0;32mif\u001b[0m \u001b[0;32mnot\u001b[0m \u001b[0mos\u001b[0m\u001b[0;34m.\u001b[0m\u001b[0mpath\u001b[0m\u001b[0;34m.\u001b[0m\u001b[0mexists\u001b[0m\u001b[0;34m(\u001b[0m\u001b[0mLOG_DIR\u001b[0m\u001b[0;34m)\u001b[0m\u001b[0;34m:\u001b[0m\u001b[0;34m\u001b[0m\u001b[0m\n",
      "\u001b[0;31mNameError\u001b[0m: name 'os' is not defined"
     ]
    }
   ],
   "source": [
    "from zeugma import GloVeTransformer\n",
    "\n",
    "embedding_transformer = GloVeTransformer(aggregation='average')\n",
    "word_index = {k: v for k, v in sequencer.word_index.items() if v <= num_words}\n",
    "\n",
    "def create_embedding_matrix(word_index, embedding_transformer):\n",
    "    \"\"\" Prepare the embedding matrix \"\"\"\n",
    "    embedding_dim = embedding_transformer.transform(['the']).shape[1]\n",
    "    embedding_matrix = np.zeros((len(word_index)+1, embedding_dim))\n",
    "    for word, i in word_index.items():\n",
    "        embedding_matrix[i] = embedding_transformer.transform([word])[0]\n",
    "    return embedding_matrix\n",
    "\n",
    "embedding_matrix = create_embedding_matrix(word_index, embedding_transformer)\n",
    "\n",
    "LOG_DIR = os.path.join(os.environ['PWD'], 'logs')\n",
    "\n",
    "if not os.path.exists(LOG_DIR):\n",
    "    os.mkdir(LOG_DIR)\n",
    "    \n",
    "# Write word names in a file for tensorboard display\n",
    "with open(os.path.join(LOG_DIR, 'metadata.tsv'), 'w') as f:\n",
    "    f.write('Word\\n' + '\\n'.join(word_index.keys()))"
   ]
  },
  {
   "cell_type": "code",
   "execution_count": null,
   "metadata": {},
   "outputs": [],
   "source": [
    "embedding_layer_cvs = Embedding(len(embedding_matrix),\n",
    "                            EMBEDDING_DIM,\n",
    "                            weights=[embedding_matrix],\n",
    "                            input_length=max_cvs_len,\n",
    "                            trainable=True,\n",
    "                            name='embeddings_cvs')\n",
    "\n",
    "\n",
    "job_input = Input(shape=(max_jobs_len,), dtype='int32')\n",
    "job_embedded_sequences = embedding_layer_jobs(job_input)\n",
    "#x_job = Flatten()(job_embedded_sequences)\n",
    "\n",
    "conv_blocks = []\n",
    "for filter_size in [3, 5, 7]:\n",
    "    x = Conv1D(128, filter_size, activation='relu')(job_embedded_sequences)\n",
    "    x = MaxPooling1D(filter_size)(x)\n",
    "    x = Conv1D(128, filter_size, activation='relu')(x)\n",
    "    x = GlobalMaxPooling1D()(x)\n",
    "    conv_blocks.append(x)\n",
    "x_job = concatenate(conv_blocks) if len(conv_blocks) > 1 else conv_blocks[0]"
   ]
  },
  {
   "cell_type": "markdown",
   "metadata": {},
   "source": []
  },
  {
   "cell_type": "code",
   "execution_count": null,
   "metadata": {},
   "outputs": [],
   "source": [
    "from keras.models import Model\n",
    "from keras.layers import concatenate\n",
    "from keras.layers import Dense, Input, Dropout\n",
    "from keras.layers import Embedding, Conv1D, GlobalMaxPooling1D\n",
    "from keras.wrappers.scikit_learn import KerasClassifier\n",
    "\n",
    "def create_model(max_length, embedding_matrix):\n",
    "    \"\"\" Model creation function: returns a compiled TextCNN\"\"\"\n",
    "    embedding_layer = Embedding(len(embedding_matrix),\n",
    "                            embedding_matrix.shape[1],\n",
    "                            weights=[embedding_matrix],\n",
    "                            input_length=max_length,\n",
    "                            trainable=True,\n",
    "                            name='embeddings')\n",
    "\n",
    "    input_layer = Input(shape=(max_length,), dtype='int32', name='input')\n",
    "    embedded_sequences = embedding_layer(input_layer)\n",
    "\n",
    "    conv_blocks = []\n",
    "    for filter_size in [3]:\n",
    "        conv = Conv1D(128, filter_size, activation='relu', name='conv_'+str(filter_size))(embedded_sequences)\n",
    "        pool = GlobalMaxPooling1D(name='global_pool_cv_'+str(filter_size))(conv)\n",
    "        conv_blocks.append(pool)\n",
    "    merge = concatenate(conv_blocks) if len(conv_blocks) > 1 else conv_blocks[0]\n",
    "    #dropout = Dropout(0.5)(merge)\n",
    "    dense = Dense(128, activation='relu', name='dense')(merge)\n",
    "    #dropout = Dropout(0.5)(dense)\n",
    "    preds = Dense(20, activation='softmax', name='softmax')(dense)\n",
    "\n",
    "    model = Model(inputs=input_layer, outputs=preds)\n",
    "    model.compile(loss='categorical_crossentropy', optimizer='adam',\n",
    "                  metrics=['accuracy'])\n",
    "    return model"
   ]
  },
  {
   "cell_type": "code",
   "execution_count": 11,
   "metadata": {},
   "outputs": [],
   "source": [
    "from sklearn.pipeline import make_pipeline"
   ]
  },
  {
   "cell_type": "code",
   "execution_count": null,
   "metadata": {},
   "outputs": [],
   "source": [
    "make_pipeline(glove, )"
   ]
  },
  {
   "cell_type": "code",
   "execution_count": null,
   "metadata": {},
   "outputs": [],
   "source": [
    "categories = ['alt.atheism', 'talk.religion.misc',\n",
    "              'comp.graphics', 'sci.space']\n",
    "\n",
    "newsgroups_train = fetch_20newsgroups(subset='train',\n",
    "                                      categories=categories)\n",
    "vectorizer = TfidfVectorizer()\n",
    "vectors = vectorizer.fit_transform(newsgroups_train.data)\n",
    "vectors.shape\n",
    "\n"
   ]
  }
 ],
 "metadata": {
  "kernelspec": {
   "display_name": "Python 3",
   "language": "python",
   "name": "python3"
  },
  "language_info": {
   "codemirror_mode": {
    "name": "ipython",
    "version": 3
   },
   "file_extension": ".py",
   "mimetype": "text/x-python",
   "name": "python",
   "nbconvert_exporter": "python",
   "pygments_lexer": "ipython3",
   "version": "3.6.5"
  }
 },
 "nbformat": 4,
 "nbformat_minor": 2
}
